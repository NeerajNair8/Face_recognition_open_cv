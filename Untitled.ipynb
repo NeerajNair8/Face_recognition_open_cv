{
 "cells": [
  {
   "cell_type": "code",
   "execution_count": 72,
   "metadata": {},
   "outputs": [],
   "source": [
    "from keras.models import load_model\n",
    "import cv2\n",
    "import numpy as np \n",
    "import pickle\n",
    "import imutils\n",
    "from PIL import Image\n",
    "from utils import *"
   ]
  },
  {
   "cell_type": "code",
   "execution_count": 76,
   "metadata": {},
   "outputs": [
    {
     "name": "stderr",
     "output_type": "stream",
     "text": [
      "C:\\Users\\HP\\Anaconda3\\envs\\tensorflow_env\\lib\\site-packages\\keras\\engine\\saving.py:292: UserWarning: No training configuration found in save file: the model was *not* compiled. Compile it manually.\n",
      "  warnings.warn('No training configuration found in save file: '\n"
     ]
    }
   ],
   "source": [
    "model =load_model('facenet_keras.h5')\n",
    "#from keras.utils import CustomObjectScope\n",
    "#import tensorflow as tf\n",
    "#model = load_model(r'./model/nn4.small2.v7.h5')"
   ]
  },
  {
   "cell_type": "code",
   "execution_count": 84,
   "metadata": {},
   "outputs": [],
   "source": [
    "model.summary()"
   ]
  },
  {
   "cell_type": "code",
   "execution_count": 24,
   "metadata": {},
   "outputs": [],
   "source": [
    "def img_to_enc(img,model):\n",
    "    image = img.resize((160, 160))\n",
    "    face_array = np.asarray(image).reshape((1,160,160,3))\n",
    "    return model.predict(face_array)"
   ]
  },
  {
   "cell_type": "code",
   "execution_count": 8,
   "metadata": {},
   "outputs": [],
   "source": [
    "detection_model_path = 'haarcascade_files/haarcascade_frontalface_default.xml'\n",
    "face_detection = cv2.CascadeClassifier(detection_model_path)"
   ]
  },
  {
   "cell_type": "code",
   "execution_count": 96,
   "metadata": {},
   "outputs": [],
   "source": [
    "face_dict={}\n",
    "face_dict[\"Joel\"]=img_to_enc(Image.open(r\"C:\\Users\\HP\\Downloads\\joel21.jpg\"),model)\n",
    "face_dict[\"Neeraj\"]=img_to_enc(Image.open(r\"C:\\Users\\HP\\Desktop\\neeraj.jpg\"),model)\n",
    "face_dict[\"Kshitij\"]=img_to_enc(Image.open(r\"C:\\Users\\HP\\Desktop\\kshitij.jpg\"),model)\n",
    "pickle_face=open(\"face_dict.pickle\",\"w+b\")\n",
    "pickle.dump(face_dict,pickle_face)\n",
    "pickle_face.close()"
   ]
  },
  {
   "cell_type": "code",
   "execution_count": 90,
   "metadata": {},
   "outputs": [],
   "source": [
    "def add_face_to_dict(name,image_path,model):\n",
    "    face_dict=load_dict()\n",
    "    if name in face_dict.key():\n",
    "        print(\" Face Already in Database, Updating ...\")\n",
    "    face_dict[name]=img_to_enc(Image.open(image_path),model)\n",
    "    pickle_face=open(\"face_dict.pickle\",\"w+b\")\n",
    "    pickle.dump(face_dict,pickle_face)\n",
    "    pickle_face.close()"
   ]
  },
  {
   "cell_type": "code",
   "execution_count": 92,
   "metadata": {},
   "outputs": [],
   "source": [
    "def load_dict(path=\"face_dict.pickle\",mode=\"w+b\"):\n",
    "    if os.path.getsize(path) == 0:\n",
    "        print(\"Empty Database\")\n",
    "        return {}\n",
    "    pick_=open(path,mode)\n",
    "    dic=pickle.load(pick_)\n",
    "    pick_.close()\n",
    "    return dic"
   ]
  },
  {
   "cell_type": "code",
   "execution_count": 62,
   "metadata": {},
   "outputs": [
    {
     "name": "stdout",
     "output_type": "stream",
     "text": [
      "True\n",
      "15.505299 Joel\n",
      "10.630862 Kshitij\n",
      "15.8624325 Joel\n",
      "11.15877 Kshitij\n",
      "15.880984 Joel\n",
      "11.240522 Kshitij\n",
      "15.830253 Joel\n",
      "11.2066965 Kshitij\n",
      "15.70872 Joel\n",
      "11.045496 Kshitij\n",
      "15.716928 Joel\n",
      "11.010924 Kshitij\n",
      "15.776661 Joel\n",
      "11.149893 Kshitij\n",
      "15.847984 Joel\n",
      "11.236232 Kshitij\n",
      "15.733139 Joel\n",
      "11.091289 Kshitij\n",
      "15.883063 Joel\n",
      "11.186635 Kshitij\n",
      "15.80594 Joel\n",
      "11.146664 Kshitij\n",
      "15.703961 Joel\n",
      "11.086565 Kshitij\n",
      "15.894492 Joel\n",
      "11.448044 Kshitij\n",
      "15.839727 Joel\n",
      "11.253995 Kshitij\n",
      "15.740294 Joel\n",
      "11.147995 Kshitij\n",
      "15.813028 Joel\n",
      "11.199823 Kshitij\n",
      "15.729363 Joel\n",
      "10.980865 Kshitij\n",
      "15.789076 Joel\n",
      "11.04766 Kshitij\n",
      "15.77213 Joel\n",
      "10.983019 Kshitij\n",
      "15.757789 Joel\n",
      "11.038706 Kshitij\n",
      "15.660365 Joel\n",
      "10.844926 Kshitij\n",
      "15.672116 Joel\n",
      "10.852375 Kshitij\n",
      "15.741641 Joel\n",
      "10.78585 Kshitij\n",
      "15.648548 Joel\n",
      "10.74009 Kshitij\n",
      "15.539194 Joel\n",
      "10.630759 Kshitij\n",
      "15.637316 Joel\n",
      "10.91709 Kshitij\n",
      "15.457303 Joel\n",
      "10.713929 Kshitij\n",
      "15.610169 Joel\n",
      "10.813348 Kshitij\n",
      "15.679293 Joel\n",
      "10.859744 Kshitij\n",
      "15.5839 Joel\n",
      "10.818252 Kshitij\n",
      "15.643054 Joel\n",
      "10.934295 Kshitij\n"
     ]
    }
   ],
   "source": [
    "camera=cv2.VideoCapture(0)\n",
    "prev=None\n",
    "while True:\n",
    "    ret,frame=camera.read()\n",
    "    if prev != ret:\n",
    "        print(ret)\n",
    "    prev=ret\n",
    "    if ret:    \n",
    "        frame=imutils.resize(frame,width=300)\n",
    "        gray=cv2.cvtColor(frame,cv2.COLOR_BGR2GRAY)\n",
    "        faces=face_detection.detectMultiScale(gray,scaleFactor=1.1,minNeighbors=5,minSize=(30,30),flags=cv2.CASCADE_SCALE_IMAGE)\n",
    "        if len(faces)>0:\n",
    "            for (x,y,w,h) in faces:\n",
    "                roi_color=frame[y:y+h,x:x+w]\n",
    "                frame = cv2.rectangle(frame,(x,y),(x+w,y+h),(255,0,0),2)\n",
    "                enc=img_to_enc(Image.fromarray(roi_color),model)\n",
    "                for nam in face_dict.keys():\n",
    "                    orm=np.linalg.norm(enc-face_dict[nam],ord=2)\n",
    "                    if orm <10:\n",
    "                        cv2.putText(frame,nam,(x,y-10),cv2.FONT_HERSHEY_COMPLEX,0.45,(255,0,0),2)\n",
    "                        print(nam,orm)\n",
    "                        break\n",
    "                    else :\n",
    "                        print(orm,nam)\n",
    "        #(x,y,w,h)=faces[0]\n",
    "        #cv2.imshow('your_face', frame[y:y+h,x:x+w])\n",
    "        cv2.imshow(\"Face\", frame)\n",
    "        if cv2.waitKey(1) & 0xFF == ord('q'):\n",
    "            break\n",
    "    else:\n",
    "        continue\n",
    "camera.release()\n",
    "cv2.destroyAllWindows()"
   ]
  },
  {
   "cell_type": "code",
   "execution_count": 97,
   "metadata": {},
   "outputs": [
    {
     "ename": "EOFError",
     "evalue": "Ran out of input",
     "output_type": "error",
     "traceback": [
      "\u001b[1;31m---------------------------------------------------------------------------\u001b[0m",
      "\u001b[1;31mEOFError\u001b[0m                                  Traceback (most recent call last)",
      "\u001b[1;32m<ipython-input-97-8cbc8ccf6b1a>\u001b[0m in \u001b[0;36m<module>\u001b[1;34m\u001b[0m\n\u001b[1;32m----> 1\u001b[1;33m \u001b[0mdi\u001b[0m\u001b[1;33m=\u001b[0m\u001b[0mload_dict\u001b[0m\u001b[1;33m(\u001b[0m\u001b[1;33m)\u001b[0m\u001b[1;33m\u001b[0m\u001b[1;33m\u001b[0m\u001b[0m\n\u001b[0m\u001b[0;32m      2\u001b[0m \u001b[0mdi\u001b[0m\u001b[1;33m\u001b[0m\u001b[1;33m\u001b[0m\u001b[0m\n",
      "\u001b[1;32m<ipython-input-92-308060b86c43>\u001b[0m in \u001b[0;36mload_dict\u001b[1;34m(path, mode)\u001b[0m\n\u001b[0;32m      4\u001b[0m         \u001b[1;32mreturn\u001b[0m \u001b[1;33m{\u001b[0m\u001b[1;33m}\u001b[0m\u001b[1;33m\u001b[0m\u001b[1;33m\u001b[0m\u001b[0m\n\u001b[0;32m      5\u001b[0m     \u001b[0mpick_\u001b[0m\u001b[1;33m=\u001b[0m\u001b[0mopen\u001b[0m\u001b[1;33m(\u001b[0m\u001b[0mpath\u001b[0m\u001b[1;33m,\u001b[0m\u001b[0mmode\u001b[0m\u001b[1;33m)\u001b[0m\u001b[1;33m\u001b[0m\u001b[1;33m\u001b[0m\u001b[0m\n\u001b[1;32m----> 6\u001b[1;33m     \u001b[0mdic\u001b[0m\u001b[1;33m=\u001b[0m\u001b[0mpickle\u001b[0m\u001b[1;33m.\u001b[0m\u001b[0mload\u001b[0m\u001b[1;33m(\u001b[0m\u001b[0mpick_\u001b[0m\u001b[1;33m)\u001b[0m\u001b[1;33m\u001b[0m\u001b[1;33m\u001b[0m\u001b[0m\n\u001b[0m\u001b[0;32m      7\u001b[0m     \u001b[0mpick_\u001b[0m\u001b[1;33m.\u001b[0m\u001b[0mclose\u001b[0m\u001b[1;33m(\u001b[0m\u001b[1;33m)\u001b[0m\u001b[1;33m\u001b[0m\u001b[1;33m\u001b[0m\u001b[0m\n\u001b[0;32m      8\u001b[0m     \u001b[1;32mreturn\u001b[0m \u001b[0mdic\u001b[0m\u001b[1;33m\u001b[0m\u001b[1;33m\u001b[0m\u001b[0m\n",
      "\u001b[1;31mEOFError\u001b[0m: Ran out of input"
     ]
    }
   ],
   "source": [
    "di=load_dict()\n",
    "di"
   ]
  },
  {
   "cell_type": "code",
   "execution_count": 100,
   "metadata": {},
   "outputs": [
    {
     "data": {
      "text/plain": [
       "{1: '6', 2: '2', 3: 'f'}"
      ]
     },
     "execution_count": 100,
     "metadata": {},
     "output_type": "execute_result"
    }
   ],
   "source": [
    "example_dict = {1:\"6\",2:\"2\",3:\"f\"}\n",
    "\n",
    "pickle_out = open(\"dict.pickle\",\"wb\")\n",
    "pickle.dump(example_dict, pickle_out)\n",
    "pickle_out.close()\n",
    "\n",
    "\n",
    "pickle_in = open(\"dict.pickle\",\"rb\")\n",
    "example_dic = pickle.load(pickle_in)\n",
    "example_dic"
   ]
  },
  {
   "cell_type": "code",
   "execution_count": null,
   "metadata": {},
   "outputs": [],
   "source": []
  }
 ],
 "metadata": {
  "kernelspec": {
   "display_name": "Python 3",
   "language": "python",
   "name": "python3"
  },
  "language_info": {
   "codemirror_mode": {
    "name": "ipython",
    "version": 3
   },
   "file_extension": ".py",
   "mimetype": "text/x-python",
   "name": "python",
   "nbconvert_exporter": "python",
   "pygments_lexer": "ipython3",
   "version": "3.6.10"
  }
 },
 "nbformat": 4,
 "nbformat_minor": 2
}
